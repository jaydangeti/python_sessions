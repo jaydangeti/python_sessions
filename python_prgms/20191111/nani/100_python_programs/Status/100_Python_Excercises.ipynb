{
 "cells": [
  {
   "cell_type": "markdown",
   "metadata": {},
   "source": [
    "### **Question:**\n",
    "\n",
    "***Write a program that accepts a sentence and calculate the number of upper case letters and lower case letters.***\n",
    "\n",
    "***Suppose the following input is supplied to the program:***\n",
    "```\n",
    "Hello world!\n",
    "```\n",
    "***Then, the output should be:***\n",
    "```\n",
    "UPPER CASE 1\n",
    "LOWER CASE 9\n",
    "```\n"
   ]
  },
  {
   "cell_type": "code",
   "execution_count": 5,
   "metadata": {},
   "outputs": [
    {
     "name": "stdout",
     "output_type": "stream",
     "text": [
      "abcdefghijklmnopqrstuvwxyz\n",
      "ABCDEFGHIJKLMNOPQRSTUVWXYZ\n"
     ]
    }
   ],
   "source": [
    "str1 = \"Hello world!\" \n",
    "lower = 'abcdefghijklmnopqrstuvwxyz'\n",
    "upper = lower.upper()\n",
    "\n",
    "print(lower)\n",
    "print(upper)"
   ]
  },
  {
   "cell_type": "code",
   "execution_count": 2,
   "metadata": {},
   "outputs": [
    {
     "name": "stdout",
     "output_type": "stream",
     "text": [
      "Upper Case Letter(s) : 1\n",
      "Lower Case Letter(s) : 9\n"
     ]
    }
   ],
   "source": [
    "upper_count = 0\n",
    "lower_count = 0\n",
    "for char in str1:\n",
    "    if char in upper:\n",
    "        upper_count += 1\n",
    "    elif char in lower:\n",
    "        lower_count +=1\n",
    "\n",
    "print (\"Upper Case Letter(s) : {}\".format(upper_count))\n",
    "print (\"Lower Case Letter(s) : {}\".format(lower_count))"
   ]
  },
  {
   "cell_type": "markdown",
   "metadata": {},
   "source": [
    "The idea in the above solution approach is that you are looping the input string and finding out if each of the element is a lower case or an upper case letter. [Hint: You can user is_upper() and is_lower() functions] The same program using is_lower() and is_upper() functions is as below."
   ]
  },
  {
   "cell_type": "code",
   "execution_count": 6,
   "metadata": {},
   "outputs": [
    {
     "name": "stdout",
     "output_type": "stream",
     "text": [
      "Upper Case Letter(s) : 1\n",
      "Lower Case Letter(s) : 9\n"
     ]
    }
   ],
   "source": [
    "upper_count = 0\n",
    "lower_count = 0\n",
    "for char in str1:\n",
    "    if char.isupper():\n",
    "        upper_count += 1\n",
    "    elif char.islower():\n",
    "        lower_count +=1\n",
    "\n",
    "print (\"Upper Case Letter(s) : {}\".format(upper_count))\n",
    "print (\"Lower Case Letter(s) : {}\".format(lower_count))"
   ]
  },
  {
   "cell_type": "markdown",
   "metadata": {},
   "source": [
    "The assumption in both the above is that the input string is reasonably short. This might always not be the case. If the string is too long, then the following approach makes more sense. This approach will ensure that you are iterating only 52 times through the string."
   ]
  },
  {
   "cell_type": "code",
   "execution_count": 4,
   "metadata": {},
   "outputs": [
    {
     "name": "stdout",
     "output_type": "stream",
     "text": [
      "Upper Case Letter(s) : 1\n",
      "Lower Case Letter(s) : 9\n"
     ]
    }
   ],
   "source": [
    "upper_count = 0\n",
    "lower_count = 0\n",
    "\n",
    "for letter in lower:\n",
    "    lower_count += str1.count(letter)\n",
    "\n",
    "for letter in upper:\n",
    "    upper_count += str1.count(letter)\n",
    "\n",
    "print (\"Upper Case Letter(s) : {}\".format(upper_count))\n",
    "print (\"Lower Case Letter(s) : {}\".format(lower_count))\n",
    "\n"
   ]
  },
  {
   "cell_type": "code",
   "execution_count": null,
   "metadata": {},
   "outputs": [],
   "source": []
  },
  {
   "cell_type": "code",
   "execution_count": 13,
   "metadata": {},
   "outputs": [
    {
     "name": "stdout",
     "output_type": "stream",
     "text": [
      "11106\n"
     ]
    }
   ],
   "source": [
    "given_number = '9'\n",
    "list1 = []\n",
    "sum_of_numbers = 0\n",
    "\n",
    "for i in range(4):\n",
    "    #list1.append(given_number*(i+1))\n",
    "    #print (given_number * (i+1))\n",
    "    sum_of_numbers += int(given_number*(i+1))\n",
    "\n",
    "#for number in list1:\n",
    "#    sum_of_numbers += int(number)\n",
    "\n",
    "print (sum_of_numbers)"
   ]
  },
  {
   "cell_type": "code",
   "execution_count": 10,
   "metadata": {},
   "outputs": [
    {
     "data": {
      "text/plain": [
       "'9999999999'"
      ]
     },
     "execution_count": 10,
     "metadata": {},
     "output_type": "execute_result"
    }
   ],
   "source": []
  },
  {
   "cell_type": "code",
   "execution_count": 16,
   "metadata": {},
   "outputs": [
    {
     "name": "stdout",
     "output_type": "stream",
     "text": [
      "D 300\n",
      "D 300\n",
      "W 200\n",
      "D 100\n",
      "W 100\n"
     ]
    }
   ],
   "source": [
    "string = \"\"\"D 300\n",
    "D 300\n",
    "W 200\n",
    "D 100\n",
    "W 100\"\"\"\n",
    "print(string)\n"
   ]
  },
  {
   "cell_type": "code",
   "execution_count": null,
   "metadata": {},
   "outputs": [],
   "source": []
  }
 ],
 "metadata": {
  "kernelspec": {
   "display_name": "Python 3",
   "language": "python",
   "name": "python3"
  },
  "language_info": {
   "codemirror_mode": {
    "name": "ipython",
    "version": 3
   },
   "file_extension": ".py",
   "mimetype": "text/x-python",
   "name": "python",
   "nbconvert_exporter": "python",
   "pygments_lexer": "ipython3",
   "version": "3.7.3"
  }
 },
 "nbformat": 4,
 "nbformat_minor": 4
}
